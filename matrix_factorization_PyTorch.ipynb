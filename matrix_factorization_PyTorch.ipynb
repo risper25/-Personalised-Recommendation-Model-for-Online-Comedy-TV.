{
  "nbformat": 4,
  "nbformat_minor": 0,
  "metadata": {
    "colab": {
      "provenance": [],
      "authorship_tag": "ABX9TyO/PamZUK7EqfKKMkhORq/Z",
      "include_colab_link": true
    },
    "kernelspec": {
      "name": "python3",
      "display_name": "Python 3"
    },
    "language_info": {
      "name": "python"
    }
  },
  "cells": [
    {
      "cell_type": "markdown",
      "metadata": {
        "id": "view-in-github",
        "colab_type": "text"
      },
      "source": [
        "<a href=\"https://colab.research.google.com/github/risper25/Personalised-Recommendation-Model-for-Online-Comedy-TV./blob/main/matrix_factorization_PyTorch.ipynb\" target=\"_parent\"><img src=\"https://colab.research.google.com/assets/colab-badge.svg\" alt=\"Open In Colab\"/></a>"
      ]
    },
    {
      "cell_type": "code",
      "execution_count": 1,
      "metadata": {
        "id": "jc_esGCcpIeA"
      },
      "outputs": [],
      "source": [
        "#imports\n",
        "import torch\n",
        "import pandas as pd\n",
        "import matplotlib.pyplot as plt\n",
        "import seaborn as sns\n",
        "from sklearn.model_selection import train_test_split\n",
        "from scipy import stats"
      ]
    },
    {
      "cell_type": "markdown",
      "source": [
        "# Read file:"
      ],
      "metadata": {
        "id": "caFyhd0hqIQu"
      }
    },
    {
      "cell_type": "code",
      "source": [
        "#!unzip /content/train.zip\n",
        "train=pd.read_csv(\"/content/train.csv\")\n",
        "train.head()"
      ],
      "metadata": {
        "id": "azCYa5GRfoO7",
        "colab": {
          "base_uri": "https://localhost:8080/",
          "height": 206
        },
        "outputId": "8520d89f-5d4e-42e9-fed2-9279fe5951f9"
      },
      "execution_count": 2,
      "outputs": [
        {
          "output_type": "execute_result",
          "data": {
            "text/plain": [
              "  Viewers_ID         Joke_identifier                Response_ID  Rating\n",
              "0         A1  Klint De Drunk Enugu 1  A1_Klint De Drunk Enugu 1    0.11\n",
              "1         A1  Klint De Drunk Enugu 2  A1_Klint De Drunk Enugu 2   -4.64\n",
              "2         A1     Klint De Drunk PH 1     A1_Klint De Drunk PH 1   -3.39\n",
              "3         A1     Klint De Drunk PH 2     A1_Klint De Drunk PH 2    0.44\n",
              "4         A1  Klint De Drunk Lagos 1  A1_Klint De Drunk Lagos 1   -4.83"
            ],
            "text/html": [
              "\n",
              "  <div id=\"df-e2b3337b-3777-4061-9182-882e9616f736\">\n",
              "    <div class=\"colab-df-container\">\n",
              "      <div>\n",
              "<style scoped>\n",
              "    .dataframe tbody tr th:only-of-type {\n",
              "        vertical-align: middle;\n",
              "    }\n",
              "\n",
              "    .dataframe tbody tr th {\n",
              "        vertical-align: top;\n",
              "    }\n",
              "\n",
              "    .dataframe thead th {\n",
              "        text-align: right;\n",
              "    }\n",
              "</style>\n",
              "<table border=\"1\" class=\"dataframe\">\n",
              "  <thead>\n",
              "    <tr style=\"text-align: right;\">\n",
              "      <th></th>\n",
              "      <th>Viewers_ID</th>\n",
              "      <th>Joke_identifier</th>\n",
              "      <th>Response_ID</th>\n",
              "      <th>Rating</th>\n",
              "    </tr>\n",
              "  </thead>\n",
              "  <tbody>\n",
              "    <tr>\n",
              "      <th>0</th>\n",
              "      <td>A1</td>\n",
              "      <td>Klint De Drunk Enugu 1</td>\n",
              "      <td>A1_Klint De Drunk Enugu 1</td>\n",
              "      <td>0.11</td>\n",
              "    </tr>\n",
              "    <tr>\n",
              "      <th>1</th>\n",
              "      <td>A1</td>\n",
              "      <td>Klint De Drunk Enugu 2</td>\n",
              "      <td>A1_Klint De Drunk Enugu 2</td>\n",
              "      <td>-4.64</td>\n",
              "    </tr>\n",
              "    <tr>\n",
              "      <th>2</th>\n",
              "      <td>A1</td>\n",
              "      <td>Klint De Drunk PH 1</td>\n",
              "      <td>A1_Klint De Drunk PH 1</td>\n",
              "      <td>-3.39</td>\n",
              "    </tr>\n",
              "    <tr>\n",
              "      <th>3</th>\n",
              "      <td>A1</td>\n",
              "      <td>Klint De Drunk PH 2</td>\n",
              "      <td>A1_Klint De Drunk PH 2</td>\n",
              "      <td>0.44</td>\n",
              "    </tr>\n",
              "    <tr>\n",
              "      <th>4</th>\n",
              "      <td>A1</td>\n",
              "      <td>Klint De Drunk Lagos 1</td>\n",
              "      <td>A1_Klint De Drunk Lagos 1</td>\n",
              "      <td>-4.83</td>\n",
              "    </tr>\n",
              "  </tbody>\n",
              "</table>\n",
              "</div>\n",
              "      <button class=\"colab-df-convert\" onclick=\"convertToInteractive('df-e2b3337b-3777-4061-9182-882e9616f736')\"\n",
              "              title=\"Convert this dataframe to an interactive table.\"\n",
              "              style=\"display:none;\">\n",
              "        \n",
              "  <svg xmlns=\"http://www.w3.org/2000/svg\" height=\"24px\"viewBox=\"0 0 24 24\"\n",
              "       width=\"24px\">\n",
              "    <path d=\"M0 0h24v24H0V0z\" fill=\"none\"/>\n",
              "    <path d=\"M18.56 5.44l.94 2.06.94-2.06 2.06-.94-2.06-.94-.94-2.06-.94 2.06-2.06.94zm-11 1L8.5 8.5l.94-2.06 2.06-.94-2.06-.94L8.5 2.5l-.94 2.06-2.06.94zm10 10l.94 2.06.94-2.06 2.06-.94-2.06-.94-.94-2.06-.94 2.06-2.06.94z\"/><path d=\"M17.41 7.96l-1.37-1.37c-.4-.4-.92-.59-1.43-.59-.52 0-1.04.2-1.43.59L10.3 9.45l-7.72 7.72c-.78.78-.78 2.05 0 2.83L4 21.41c.39.39.9.59 1.41.59.51 0 1.02-.2 1.41-.59l7.78-7.78 2.81-2.81c.8-.78.8-2.07 0-2.86zM5.41 20L4 18.59l7.72-7.72 1.47 1.35L5.41 20z\"/>\n",
              "  </svg>\n",
              "      </button>\n",
              "      \n",
              "  <style>\n",
              "    .colab-df-container {\n",
              "      display:flex;\n",
              "      flex-wrap:wrap;\n",
              "      gap: 12px;\n",
              "    }\n",
              "\n",
              "    .colab-df-convert {\n",
              "      background-color: #E8F0FE;\n",
              "      border: none;\n",
              "      border-radius: 50%;\n",
              "      cursor: pointer;\n",
              "      display: none;\n",
              "      fill: #1967D2;\n",
              "      height: 32px;\n",
              "      padding: 0 0 0 0;\n",
              "      width: 32px;\n",
              "    }\n",
              "\n",
              "    .colab-df-convert:hover {\n",
              "      background-color: #E2EBFA;\n",
              "      box-shadow: 0px 1px 2px rgba(60, 64, 67, 0.3), 0px 1px 3px 1px rgba(60, 64, 67, 0.15);\n",
              "      fill: #174EA6;\n",
              "    }\n",
              "\n",
              "    [theme=dark] .colab-df-convert {\n",
              "      background-color: #3B4455;\n",
              "      fill: #D2E3FC;\n",
              "    }\n",
              "\n",
              "    [theme=dark] .colab-df-convert:hover {\n",
              "      background-color: #434B5C;\n",
              "      box-shadow: 0px 1px 3px 1px rgba(0, 0, 0, 0.15);\n",
              "      filter: drop-shadow(0px 1px 2px rgba(0, 0, 0, 0.3));\n",
              "      fill: #FFFFFF;\n",
              "    }\n",
              "  </style>\n",
              "\n",
              "      <script>\n",
              "        const buttonEl =\n",
              "          document.querySelector('#df-e2b3337b-3777-4061-9182-882e9616f736 button.colab-df-convert');\n",
              "        buttonEl.style.display =\n",
              "          google.colab.kernel.accessAllowed ? 'block' : 'none';\n",
              "\n",
              "        async function convertToInteractive(key) {\n",
              "          const element = document.querySelector('#df-e2b3337b-3777-4061-9182-882e9616f736');\n",
              "          const dataTable =\n",
              "            await google.colab.kernel.invokeFunction('convertToInteractive',\n",
              "                                                     [key], {});\n",
              "          if (!dataTable) return;\n",
              "\n",
              "          const docLinkHtml = 'Like what you see? Visit the ' +\n",
              "            '<a target=\"_blank\" href=https://colab.research.google.com/notebooks/data_table.ipynb>data table notebook</a>'\n",
              "            + ' to learn more about interactive tables.';\n",
              "          element.innerHTML = '';\n",
              "          dataTable['output_type'] = 'display_data';\n",
              "          await google.colab.output.renderOutput(dataTable, element);\n",
              "          const docLink = document.createElement('div');\n",
              "          docLink.innerHTML = docLinkHtml;\n",
              "          element.appendChild(docLink);\n",
              "        }\n",
              "      </script>\n",
              "    </div>\n",
              "  </div>\n",
              "  "
            ]
          },
          "metadata": {},
          "execution_count": 2
        }
      ]
    },
    {
      "cell_type": "code",
      "source": [
        "#shape\n",
        "print(train.shape)"
      ],
      "metadata": {
        "colab": {
          "base_uri": "https://localhost:8080/"
        },
        "id": "SfNb75jZ4f6L",
        "outputId": "7fd82aec-7f32-4bc5-fe64-6050d9f4782a"
      },
      "execution_count": 3,
      "outputs": [
        {
          "output_type": "stream",
          "name": "stdout",
          "text": [
            "(612702, 4)\n"
          ]
        }
      ]
    },
    {
      "cell_type": "markdown",
      "source": [
        "#**EDA**(Exploratory Data Analysis)\n"
      ],
      "metadata": {
        "id": "7NNKduj7vehH"
      }
    },
    {
      "cell_type": "code",
      "source": [
        "#split the joke identifier into three parts: the comedy name,event location and part.\n",
        "train['Joke_split']=train['Joke_identifier'].apply(lambda x:x.rsplit(' ', 2))\n",
        "train['Joke']=train['Joke_split'].apply(lambda x:x[0])\n",
        "train['location']=train['Joke_split'].apply(lambda x:x[1])\n",
        "train['joke_part']=train['Joke_split'].apply(lambda x:x[2])\n",
        "train.head()"
      ],
      "metadata": {
        "id": "IAOMqIN29H6N",
        "colab": {
          "base_uri": "https://localhost:8080/",
          "height": 337
        },
        "outputId": "2db8fe8b-a877-404f-ca44-478f4c7686d8"
      },
      "execution_count": 4,
      "outputs": [
        {
          "output_type": "execute_result",
          "data": {
            "text/plain": [
              "  Viewers_ID         Joke_identifier                Response_ID  Rating  \\\n",
              "0         A1  Klint De Drunk Enugu 1  A1_Klint De Drunk Enugu 1    0.11   \n",
              "1         A1  Klint De Drunk Enugu 2  A1_Klint De Drunk Enugu 2   -4.64   \n",
              "2         A1     Klint De Drunk PH 1     A1_Klint De Drunk PH 1   -3.39   \n",
              "3         A1     Klint De Drunk PH 2     A1_Klint De Drunk PH 2    0.44   \n",
              "4         A1  Klint De Drunk Lagos 1  A1_Klint De Drunk Lagos 1   -4.83   \n",
              "\n",
              "                   Joke_split            Joke location joke_part  \n",
              "0  [Klint De Drunk, Enugu, 1]  Klint De Drunk    Enugu         1  \n",
              "1  [Klint De Drunk, Enugu, 2]  Klint De Drunk    Enugu         2  \n",
              "2     [Klint De Drunk, PH, 1]  Klint De Drunk       PH         1  \n",
              "3     [Klint De Drunk, PH, 2]  Klint De Drunk       PH         2  \n",
              "4  [Klint De Drunk, Lagos, 1]  Klint De Drunk    Lagos         1  "
            ],
            "text/html": [
              "\n",
              "  <div id=\"df-ce000030-a169-4b61-8626-da72599a1542\">\n",
              "    <div class=\"colab-df-container\">\n",
              "      <div>\n",
              "<style scoped>\n",
              "    .dataframe tbody tr th:only-of-type {\n",
              "        vertical-align: middle;\n",
              "    }\n",
              "\n",
              "    .dataframe tbody tr th {\n",
              "        vertical-align: top;\n",
              "    }\n",
              "\n",
              "    .dataframe thead th {\n",
              "        text-align: right;\n",
              "    }\n",
              "</style>\n",
              "<table border=\"1\" class=\"dataframe\">\n",
              "  <thead>\n",
              "    <tr style=\"text-align: right;\">\n",
              "      <th></th>\n",
              "      <th>Viewers_ID</th>\n",
              "      <th>Joke_identifier</th>\n",
              "      <th>Response_ID</th>\n",
              "      <th>Rating</th>\n",
              "      <th>Joke_split</th>\n",
              "      <th>Joke</th>\n",
              "      <th>location</th>\n",
              "      <th>joke_part</th>\n",
              "    </tr>\n",
              "  </thead>\n",
              "  <tbody>\n",
              "    <tr>\n",
              "      <th>0</th>\n",
              "      <td>A1</td>\n",
              "      <td>Klint De Drunk Enugu 1</td>\n",
              "      <td>A1_Klint De Drunk Enugu 1</td>\n",
              "      <td>0.11</td>\n",
              "      <td>[Klint De Drunk, Enugu, 1]</td>\n",
              "      <td>Klint De Drunk</td>\n",
              "      <td>Enugu</td>\n",
              "      <td>1</td>\n",
              "    </tr>\n",
              "    <tr>\n",
              "      <th>1</th>\n",
              "      <td>A1</td>\n",
              "      <td>Klint De Drunk Enugu 2</td>\n",
              "      <td>A1_Klint De Drunk Enugu 2</td>\n",
              "      <td>-4.64</td>\n",
              "      <td>[Klint De Drunk, Enugu, 2]</td>\n",
              "      <td>Klint De Drunk</td>\n",
              "      <td>Enugu</td>\n",
              "      <td>2</td>\n",
              "    </tr>\n",
              "    <tr>\n",
              "      <th>2</th>\n",
              "      <td>A1</td>\n",
              "      <td>Klint De Drunk PH 1</td>\n",
              "      <td>A1_Klint De Drunk PH 1</td>\n",
              "      <td>-3.39</td>\n",
              "      <td>[Klint De Drunk, PH, 1]</td>\n",
              "      <td>Klint De Drunk</td>\n",
              "      <td>PH</td>\n",
              "      <td>1</td>\n",
              "    </tr>\n",
              "    <tr>\n",
              "      <th>3</th>\n",
              "      <td>A1</td>\n",
              "      <td>Klint De Drunk PH 2</td>\n",
              "      <td>A1_Klint De Drunk PH 2</td>\n",
              "      <td>0.44</td>\n",
              "      <td>[Klint De Drunk, PH, 2]</td>\n",
              "      <td>Klint De Drunk</td>\n",
              "      <td>PH</td>\n",
              "      <td>2</td>\n",
              "    </tr>\n",
              "    <tr>\n",
              "      <th>4</th>\n",
              "      <td>A1</td>\n",
              "      <td>Klint De Drunk Lagos 1</td>\n",
              "      <td>A1_Klint De Drunk Lagos 1</td>\n",
              "      <td>-4.83</td>\n",
              "      <td>[Klint De Drunk, Lagos, 1]</td>\n",
              "      <td>Klint De Drunk</td>\n",
              "      <td>Lagos</td>\n",
              "      <td>1</td>\n",
              "    </tr>\n",
              "  </tbody>\n",
              "</table>\n",
              "</div>\n",
              "      <button class=\"colab-df-convert\" onclick=\"convertToInteractive('df-ce000030-a169-4b61-8626-da72599a1542')\"\n",
              "              title=\"Convert this dataframe to an interactive table.\"\n",
              "              style=\"display:none;\">\n",
              "        \n",
              "  <svg xmlns=\"http://www.w3.org/2000/svg\" height=\"24px\"viewBox=\"0 0 24 24\"\n",
              "       width=\"24px\">\n",
              "    <path d=\"M0 0h24v24H0V0z\" fill=\"none\"/>\n",
              "    <path d=\"M18.56 5.44l.94 2.06.94-2.06 2.06-.94-2.06-.94-.94-2.06-.94 2.06-2.06.94zm-11 1L8.5 8.5l.94-2.06 2.06-.94-2.06-.94L8.5 2.5l-.94 2.06-2.06.94zm10 10l.94 2.06.94-2.06 2.06-.94-2.06-.94-.94-2.06-.94 2.06-2.06.94z\"/><path d=\"M17.41 7.96l-1.37-1.37c-.4-.4-.92-.59-1.43-.59-.52 0-1.04.2-1.43.59L10.3 9.45l-7.72 7.72c-.78.78-.78 2.05 0 2.83L4 21.41c.39.39.9.59 1.41.59.51 0 1.02-.2 1.41-.59l7.78-7.78 2.81-2.81c.8-.78.8-2.07 0-2.86zM5.41 20L4 18.59l7.72-7.72 1.47 1.35L5.41 20z\"/>\n",
              "  </svg>\n",
              "      </button>\n",
              "      \n",
              "  <style>\n",
              "    .colab-df-container {\n",
              "      display:flex;\n",
              "      flex-wrap:wrap;\n",
              "      gap: 12px;\n",
              "    }\n",
              "\n",
              "    .colab-df-convert {\n",
              "      background-color: #E8F0FE;\n",
              "      border: none;\n",
              "      border-radius: 50%;\n",
              "      cursor: pointer;\n",
              "      display: none;\n",
              "      fill: #1967D2;\n",
              "      height: 32px;\n",
              "      padding: 0 0 0 0;\n",
              "      width: 32px;\n",
              "    }\n",
              "\n",
              "    .colab-df-convert:hover {\n",
              "      background-color: #E2EBFA;\n",
              "      box-shadow: 0px 1px 2px rgba(60, 64, 67, 0.3), 0px 1px 3px 1px rgba(60, 64, 67, 0.15);\n",
              "      fill: #174EA6;\n",
              "    }\n",
              "\n",
              "    [theme=dark] .colab-df-convert {\n",
              "      background-color: #3B4455;\n",
              "      fill: #D2E3FC;\n",
              "    }\n",
              "\n",
              "    [theme=dark] .colab-df-convert:hover {\n",
              "      background-color: #434B5C;\n",
              "      box-shadow: 0px 1px 3px 1px rgba(0, 0, 0, 0.15);\n",
              "      filter: drop-shadow(0px 1px 2px rgba(0, 0, 0, 0.3));\n",
              "      fill: #FFFFFF;\n",
              "    }\n",
              "  </style>\n",
              "\n",
              "      <script>\n",
              "        const buttonEl =\n",
              "          document.querySelector('#df-ce000030-a169-4b61-8626-da72599a1542 button.colab-df-convert');\n",
              "        buttonEl.style.display =\n",
              "          google.colab.kernel.accessAllowed ? 'block' : 'none';\n",
              "\n",
              "        async function convertToInteractive(key) {\n",
              "          const element = document.querySelector('#df-ce000030-a169-4b61-8626-da72599a1542');\n",
              "          const dataTable =\n",
              "            await google.colab.kernel.invokeFunction('convertToInteractive',\n",
              "                                                     [key], {});\n",
              "          if (!dataTable) return;\n",
              "\n",
              "          const docLinkHtml = 'Like what you see? Visit the ' +\n",
              "            '<a target=\"_blank\" href=https://colab.research.google.com/notebooks/data_table.ipynb>data table notebook</a>'\n",
              "            + ' to learn more about interactive tables.';\n",
              "          element.innerHTML = '';\n",
              "          dataTable['output_type'] = 'display_data';\n",
              "          await google.colab.output.renderOutput(dataTable, element);\n",
              "          const docLink = document.createElement('div');\n",
              "          docLink.innerHTML = docLinkHtml;\n",
              "          element.appendChild(docLink);\n",
              "        }\n",
              "      </script>\n",
              "    </div>\n",
              "  </div>\n",
              "  "
            ]
          },
          "metadata": {},
          "execution_count": 4
        }
      ]
    },
    {
      "cell_type": "code",
      "source": [
        "#unique values for categorical variables\n",
        "print(train.Joke.unique())\n",
        "print(\"=\"*80)\n",
        "print(train.location.unique())\n",
        "print(\"=\"*80)\n",
        "print(train.joke_part.unique())"
      ],
      "metadata": {
        "colab": {
          "base_uri": "https://localhost:8080/"
        },
        "id": "w73b4g2b70W1",
        "outputId": "6ca1d3da-a864-4ceb-cb6d-9d95cb6f238b"
      },
      "execution_count": 5,
      "outputs": [
        {
          "output_type": "stream",
          "name": "stdout",
          "text": [
            "['Klint De Drunk' 'Klint De Drunk Warri' 'AliBaba' 'AliBaba Aso'\n",
            " 'BasketMouth' 'AY' 'Bovi' 'Akpororo' 'I Go Dye' 'Helen Paul' 'Seyi Law'\n",
            " 'Gordons' 'Saka' 'Okey Bakassi' 'Funny Bone']\n",
            "================================================================================\n",
            "['Enugu' 'PH' 'Lagos' '1' 'Rock' 'Abuja' 'Warri' 'Owerri' 'Benin' 'Uyo'\n",
            " 'Ibadan']\n",
            "================================================================================\n",
            "['1' '2' '3' '' '4' '5']\n"
          ]
        }
      ]
    },
    {
      "cell_type": "code",
      "source": [
        "#correct Kilit de Drunk Warri\n",
        "train.loc[train['Joke'] == 'Klint De Drunk Warri', ['Joke','location','joke_part']] = ['Klint De Drunk', 'Warri','1']\n",
        "train.Joke.unique()"
      ],
      "metadata": {
        "colab": {
          "base_uri": "https://localhost:8080/"
        },
        "id": "stg03qesB_Dm",
        "outputId": "41015c6f-9bc4-498a-abbd-22516f398c6d"
      },
      "execution_count": 6,
      "outputs": [
        {
          "output_type": "execute_result",
          "data": {
            "text/plain": [
              "array(['Klint De Drunk', 'AliBaba', 'AliBaba Aso', 'BasketMouth', 'AY',\n",
              "       'Bovi', 'Akpororo', 'I Go Dye', 'Helen Paul', 'Seyi Law',\n",
              "       'Gordons', 'Saka', 'Okey Bakassi', 'Funny Bone'], dtype=object)"
            ]
          },
          "metadata": {},
          "execution_count": 6
        }
      ]
    },
    {
      "cell_type": "markdown",
      "source": [
        "## univariate distribution for comedy,event location and part."
      ],
      "metadata": {
        "id": "FFP_rCL68hYG"
      }
    },
    {
      "cell_type": "code",
      "source": [
        "cols=['Joke','location','joke_part']\n",
        "\n",
        "for c in cols:\n",
        "    print(\" \")\n",
        "    counts =train[c].value_counts()\n",
        "    plt.figure(figsize=(10, 5))\n",
        "    plt.barh(counts.index, counts.values)\n",
        "    plt.title(c)\n",
        "    plt.show()"
      ],
      "metadata": {
        "colab": {
          "base_uri": "https://localhost:8080/",
          "height": 1000
        },
        "id": "R6EOJ5U6v6WW",
        "outputId": "bbccf50d-d16e-4a50-be9a-f07e774c1c2f"
      },
      "execution_count": 7,
      "outputs": [
        {
          "output_type": "stream",
          "name": "stdout",
          "text": [
            " \n"
          ]
        },
        {
          "output_type": "display_data",
          "data": {
            "text/plain": [
              "<Figure size 720x360 with 1 Axes>"
            ],
            "image/png": "[encoded data removed]"
          },
          "metadata": {
            "needs_background": "light"
          }
        },
        {
          "output_type": "stream",
          "name": "stdout",
          "text": [
            " \n"
          ]
        },
        {
          "output_type": "display_data",
          "data": {
            "text/plain": [
              "<Figure size 720x360 with 1 Axes>"
            ],
            "image/png": "[encoded data removed]"
          },
          "metadata": {
            "needs_background": "light"
          }
        },
        {
          "output_type": "stream",
          "name": "stdout",
          "text": [
            " \n"
          ]
        },
        {
          "output_type": "display_data",
          "data": {
            "text/plain": [
              "<Figure size 720x360 with 1 Axes>"
            ],
            "image/png": "[encoded data removed]"
          },
          "metadata": {
            "needs_background": "light"
          }
        }
      ]
    },
    {
      "cell_type": "markdown",
      "source": [
        "Number of locations for each comedy event"
      ],
      "metadata": {
        "id": "3MAKU6Pg83IH"
      }
    },
    {
      "cell_type": "code",
      "source": [
        "counts = train.groupby('Joke')['location'].nunique().reset_index(name='Count')\n",
        "plt.figure(figsize=(10, 5))\n",
        "plt.barh(counts.Joke,counts.Count)\n",
        "plt.title(\"Number of locations for each comedy event\")\n",
        "\n",
        "plt.show()"
      ],
      "metadata": {
        "colab": {
          "base_uri": "https://localhost:8080/",
          "height": 336
        },
        "id": "FhssZBVs6lPR",
        "outputId": "ff5f5e25-70c2-4f5a-ee9e-829012ba62ef"
      },
      "execution_count": 8,
      "outputs": [
        {
          "output_type": "display_data",
          "data": {
            "text/plain": [
              "<Figure size 720x360 with 1 Axes>"
            ],
            "image/png": "[encoded data removed]"
          },
          "metadata": {
            "needs_background": "light"
          }
        }
      ]
    },
    {
      "cell_type": "markdown",
      "source": [
        "Positive and Negative Ratings proportions for each joke."
      ],
      "metadata": {
        "id": "eogqhc7288AY"
      }
    },
    {
      "cell_type": "code",
      "source": [
        "import numpy as np\n",
        "#positive and negative ratings\n",
        "train['sentiment']=train['Rating'].apply(lambda x: 'positive' if x > 0 else 'negative')\n",
        "sentiment_counts= train.groupby(['Joke', 'sentiment']).size().reset_index(name='count')\n",
        "# Calculate the percentage of each sentiment for each value of var1\n",
        "sentiment_counts = sentiment_counts.pivot(index='Joke', columns='sentiment', values='count').reset_index()\n",
        "sentiment_counts['positive_pct'] = sentiment_counts['positive'] / (sentiment_counts['positive'] + sentiment_counts['negative'])*100\n",
        "sentiment_counts['negative_pct'] = sentiment_counts['negative'] / (sentiment_counts['positive'] + sentiment_counts['negative'])*100\n",
        "sentiment_counts.drop(['negative','positive'], inplace=True, axis=1)\n",
        "plt.figure(figsize=(10, 5))\n",
        "sentiment_counts.plot(x='Joke',kind='barh',stacked=True)\n",
        "plt.legend(bbox_to_anchor=(1.05, 0), loc=3, borderaxespad=0.)\n",
        "plt.title(\"Positive and Negative Ratings proportions for each joke\")"
      ],
      "metadata": {
        "colab": {
          "base_uri": "https://localhost:8080/",
          "height": 316
        },
        "id": "Kv87D5339FGh",
        "outputId": "fe7363d0-0abc-47cf-fc9b-07a7e36c34a7"
      },
      "execution_count": 9,
      "outputs": [
        {
          "output_type": "execute_result",
          "data": {
            "text/plain": [
              "Text(0.5, 1.0, 'Positive and Negative Ratings proportions for each joke')"
            ]
          },
          "metadata": {},
          "execution_count": 9
        },
        {
          "output_type": "display_data",
          "data": {
            "text/plain": [
              "<Figure size 720x360 with 0 Axes>"
            ]
          },
          "metadata": {}
        },
        {
          "output_type": "display_data",
          "data": {
            "text/plain": [
              "<Figure size 432x288 with 1 Axes>"
            ],
            "image/png": "[encoded data removed]"
          },
          "metadata": {
            "needs_background": "light"
          }
        }
      ]
    },
    {
      "cell_type": "markdown",
      "source": [
        "Number of Comedy Events Watched by Users"
      ],
      "metadata": {
        "id": "LCX5XZdi9F-f"
      }
    },
    {
      "cell_type": "code",
      "source": [
        "#boxplot\n",
        "counts=train.groupby('Viewers_ID')['Joke'].count()\n",
        "counts.plot.box(title=\"Number of Comedy Events Watched by Users\")"
      ],
      "metadata": {
        "colab": {
          "base_uri": "https://localhost:8080/",
          "height": 298
        },
        "id": "Ee-c4qWP0XJj",
        "outputId": "4f7c3d5e-4344-45f8-8fdc-9b9f085ace12"
      },
      "execution_count": 10,
      "outputs": [
        {
          "output_type": "execute_result",
          "data": {
            "text/plain": [
              "<matplotlib.axes._subplots.AxesSubplot at 0x7fbf7d6e5430>"
            ]
          },
          "metadata": {},
          "execution_count": 10
        },
        {
          "output_type": "display_data",
          "data": {
            "text/plain": [
              "<Figure size 432x288 with 1 Axes>"
            ],
            "image/png": "[encoded data removed]"
          },
          "metadata": {
            "needs_background": "light"
          }
        }
      ]
    },
    {
      "cell_type": "code",
      "source": [
        "train['Joke'] = train['Joke'] + ' ' + train['location'] \n"
      ],
      "metadata": {
        "id": "SXmtGIJlwA0g"
      },
      "execution_count": 11,
      "outputs": []
    },
    {
      "cell_type": "markdown",
      "source": [
        "## Encoding."
      ],
      "metadata": {
        "id": "hBHK-5MhvuAD"
      }
    },
    {
      "cell_type": "code",
      "source": [
        "def index_ID(column):\n",
        "    list_n=pd.unique(train[column])\n",
        "    dict_n={n:i for i,n in enumerate(list_n)}\n",
        "    return dict_n\n",
        "def list_index(column,dict_x):\n",
        "    l_d=[dict_x[d] for d in train[column]]\n",
        "    return l_d\n",
        "\n",
        "def get_name(mydict, search_number):\n",
        "    res = dict((v,k) for k,v in mydict.items())\n",
        "    return res[search_number]"
      ],
      "metadata": {
        "id": "We2Da-QQF0hl"
      },
      "execution_count": 12,
      "outputs": []
    },
    {
      "cell_type": "code",
      "source": [
        "#users\n",
        "dict_u=index_ID(\"Viewers_ID\")\n",
        "u=list_index(\"Viewers_ID\",dict_u)\n",
        "n_users=len(dict_u)\n",
        "train['Viewers_ID']=u\n",
        "#comedy event\n",
        "dict_v=index_ID(\"Joke\")\n",
        "v=list_index(\"Joke\",dict_v)\n",
        "n_movies=len(dict_v)\n",
        "train['Joke']=v\n",
        "train.head()"
      ],
      "metadata": {
        "colab": {
          "base_uri": "https://localhost:8080/",
          "height": 337
        },
        "id": "d_U3AHsJF4y_",
        "outputId": "96d2458c-c627-4517-e8db-0ce46fac82ad"
      },
      "execution_count": 13,
      "outputs": [
        {
          "output_type": "execute_result",
          "data": {
            "text/plain": [
              "   Viewers_ID         Joke_identifier                Response_ID  Rating  \\\n",
              "0           0  Klint De Drunk Enugu 1  A1_Klint De Drunk Enugu 1    0.11   \n",
              "1           0  Klint De Drunk Enugu 2  A1_Klint De Drunk Enugu 2   -4.64   \n",
              "2           0     Klint De Drunk PH 1     A1_Klint De Drunk PH 1   -3.39   \n",
              "3           0     Klint De Drunk PH 2     A1_Klint De Drunk PH 2    0.44   \n",
              "4           0  Klint De Drunk Lagos 1  A1_Klint De Drunk Lagos 1   -4.83   \n",
              "\n",
              "                   Joke_split  Joke location joke_part sentiment  \n",
              "0  [Klint De Drunk, Enugu, 1]     0    Enugu         1  positive  \n",
              "1  [Klint De Drunk, Enugu, 2]     0    Enugu         2  negative  \n",
              "2     [Klint De Drunk, PH, 1]     1       PH         1  negative  \n",
              "3     [Klint De Drunk, PH, 2]     1       PH         2  positive  \n",
              "4  [Klint De Drunk, Lagos, 1]     2    Lagos         1  negative  "
            ],
            "text/html": [
              "\n",
              "  <div id=\"df-0a32f966-e25a-46e9-b419-987d09959610\">\n",
              "    <div class=\"colab-df-container\">\n",
              "      <div>\n",
              "<style scoped>\n",
              "    .dataframe tbody tr th:only-of-type {\n",
              "        vertical-align: middle;\n",
              "    }\n",
              "\n",
              "    .dataframe tbody tr th {\n",
              "        vertical-align: top;\n",
              "    }\n",
              "\n",
              "    .dataframe thead th {\n",
              "        text-align: right;\n",
              "    }\n",
              "</style>\n",
              "<table border=\"1\" class=\"dataframe\">\n",
              "  <thead>\n",
              "    <tr style=\"text-align: right;\">\n",
              "      <th></th>\n",
              "      <th>Viewers_ID</th>\n",
              "      <th>Joke_identifier</th>\n",
              "      <th>Response_ID</th>\n",
              "      <th>Rating</th>\n",
              "      <th>Joke_split</th>\n",
              "      <th>Joke</th>\n",
              "      <th>location</th>\n",
              "      <th>joke_part</th>\n",
              "      <th>sentiment</th>\n",
              "    </tr>\n",
              "  </thead>\n",
              "  <tbody>\n",
              "    <tr>\n",
              "      <th>0</th>\n",
              "      <td>0</td>\n",
              "      <td>Klint De Drunk Enugu 1</td>\n",
              "      <td>A1_Klint De Drunk Enugu 1</td>\n",
              "      <td>0.11</td>\n",
              "      <td>[Klint De Drunk, Enugu, 1]</td>\n",
              "      <td>0</td>\n",
              "      <td>Enugu</td>\n",
              "      <td>1</td>\n",
              "      <td>positive</td>\n",
              "    </tr>\n",
              "    <tr>\n",
              "      <th>1</th>\n",
              "      <td>0</td>\n",
              "      <td>Klint De Drunk Enugu 2</td>\n",
              "      <td>A1_Klint De Drunk Enugu 2</td>\n",
              "      <td>-4.64</td>\n",
              "      <td>[Klint De Drunk, Enugu, 2]</td>\n",
              "      <td>0</td>\n",
              "      <td>Enugu</td>\n",
              "      <td>2</td>\n",
              "      <td>negative</td>\n",
              "    </tr>\n",
              "    <tr>\n",
              "      <th>2</th>\n",
              "      <td>0</td>\n",
              "      <td>Klint De Drunk PH 1</td>\n",
              "      <td>A1_Klint De Drunk PH 1</td>\n",
              "      <td>-3.39</td>\n",
              "      <td>[Klint De Drunk, PH, 1]</td>\n",
              "      <td>1</td>\n",
              "      <td>PH</td>\n",
              "      <td>1</td>\n",
              "      <td>negative</td>\n",
              "    </tr>\n",
              "    <tr>\n",
              "      <th>3</th>\n",
              "      <td>0</td>\n",
              "      <td>Klint De Drunk PH 2</td>\n",
              "      <td>A1_Klint De Drunk PH 2</td>\n",
              "      <td>0.44</td>\n",
              "      <td>[Klint De Drunk, PH, 2]</td>\n",
              "      <td>1</td>\n",
              "      <td>PH</td>\n",
              "      <td>2</td>\n",
              "      <td>positive</td>\n",
              "    </tr>\n",
              "    <tr>\n",
              "      <th>4</th>\n",
              "      <td>0</td>\n",
              "      <td>Klint De Drunk Lagos 1</td>\n",
              "      <td>A1_Klint De Drunk Lagos 1</td>\n",
              "      <td>-4.83</td>\n",
              "      <td>[Klint De Drunk, Lagos, 1]</td>\n",
              "      <td>2</td>\n",
              "      <td>Lagos</td>\n",
              "      <td>1</td>\n",
              "      <td>negative</td>\n",
              "    </tr>\n",
              "  </tbody>\n",
              "</table>\n",
              "</div>\n",
              "      <button class=\"colab-df-convert\" onclick=\"convertToInteractive('df-0a32f966-e25a-46e9-b419-987d09959610')\"\n",
              "              title=\"Convert this dataframe to an interactive table.\"\n",
              "              style=\"display:none;\">\n",
              "        \n",
              "  <svg xmlns=\"http://www.w3.org/2000/svg\" height=\"24px\"viewBox=\"0 0 24 24\"\n",
              "       width=\"24px\">\n",
              "    <path d=\"M0 0h24v24H0V0z\" fill=\"none\"/>\n",
              "    <path d=\"M18.56 5.44l.94 2.06.94-2.06 2.06-.94-2.06-.94-.94-2.06-.94 2.06-2.06.94zm-11 1L8.5 8.5l.94-2.06 2.06-.94-2.06-.94L8.5 2.5l-.94 2.06-2.06.94zm10 10l.94 2.06.94-2.06 2.06-.94-2.06-.94-.94-2.06-.94 2.06-2.06.94z\"/><path d=\"M17.41 7.96l-1.37-1.37c-.4-.4-.92-.59-1.43-.59-.52 0-1.04.2-1.43.59L10.3 9.45l-7.72 7.72c-.78.78-.78 2.05 0 2.83L4 21.41c.39.39.9.59 1.41.59.51 0 1.02-.2 1.41-.59l7.78-7.78 2.81-2.81c.8-.78.8-2.07 0-2.86zM5.41 20L4 18.59l7.72-7.72 1.47 1.35L5.41 20z\"/>\n",
              "  </svg>\n",
              "      </button>\n",
              "      \n",
              "  <style>\n",
              "    .colab-df-container {\n",
              "      display:flex;\n",
              "      flex-wrap:wrap;\n",
              "      gap: 12px;\n",
              "    }\n",
              "\n",
              "    .colab-df-convert {\n",
              "      background-color: #E8F0FE;\n",
              "      border: none;\n",
              "      border-radius: 50%;\n",
              "      cursor: pointer;\n",
              "      display: none;\n",
              "      fill: #1967D2;\n",
              "      height: 32px;\n",
              "      padding: 0 0 0 0;\n",
              "      width: 32px;\n",
              "    }\n",
              "\n",
              "    .colab-df-convert:hover {\n",
              "      background-color: #E2EBFA;\n",
              "      box-shadow: 0px 1px 2px rgba(60, 64, 67, 0.3), 0px 1px 3px 1px rgba(60, 64, 67, 0.15);\n",
              "      fill: #174EA6;\n",
              "    }\n",
              "\n",
              "    [theme=dark] .colab-df-convert {\n",
              "      background-color: #3B4455;\n",
              "      fill: #D2E3FC;\n",
              "    }\n",
              "\n",
              "    [theme=dark] .colab-df-convert:hover {\n",
              "      background-color: #434B5C;\n",
              "      box-shadow: 0px 1px 3px 1px rgba(0, 0, 0, 0.15);\n",
              "      filter: drop-shadow(0px 1px 2px rgba(0, 0, 0, 0.3));\n",
              "      fill: #FFFFFF;\n",
              "    }\n",
              "  </style>\n",
              "\n",
              "      <script>\n",
              "        const buttonEl =\n",
              "          document.querySelector('#df-0a32f966-e25a-46e9-b419-987d09959610 button.colab-df-convert');\n",
              "        buttonEl.style.display =\n",
              "          google.colab.kernel.accessAllowed ? 'block' : 'none';\n",
              "\n",
              "        async function convertToInteractive(key) {\n",
              "          const element = document.querySelector('#df-0a32f966-e25a-46e9-b419-987d09959610');\n",
              "          const dataTable =\n",
              "            await google.colab.kernel.invokeFunction('convertToInteractive',\n",
              "                                                     [key], {});\n",
              "          if (!dataTable) return;\n",
              "\n",
              "          const docLinkHtml = 'Like what you see? Visit the ' +\n",
              "            '<a target=\"_blank\" href=https://colab.research.google.com/notebooks/data_table.ipynb>data table notebook</a>'\n",
              "            + ' to learn more about interactive tables.';\n",
              "          element.innerHTML = '';\n",
              "          dataTable['output_type'] = 'display_data';\n",
              "          await google.colab.output.renderOutput(dataTable, element);\n",
              "          const docLink = document.createElement('div');\n",
              "          docLink.innerHTML = docLinkHtml;\n",
              "          element.appendChild(docLink);\n",
              "        }\n",
              "      </script>\n",
              "    </div>\n",
              "  </div>\n",
              "  "
            ]
          },
          "metadata": {},
          "execution_count": 13
        }
      ]
    },
    {
      "cell_type": "code",
      "source": [
        "n_users=train.Viewers_ID.nunique()\n",
        "print(n_users)\n",
        "n_joke=train.Joke.nunique()\n",
        "print(n_joke)"
      ],
      "metadata": {
        "colab": {
          "base_uri": "https://localhost:8080/"
        },
        "id": "gswH9BrOl3IM",
        "outputId": "4135078f-c462-4c9f-ae64-9efe8eee25d1"
      },
      "execution_count": 14,
      "outputs": [
        {
          "output_type": "stream",
          "name": "stdout",
          "text": [
            "40863\n",
            "39\n"
          ]
        }
      ]
    },
    {
      "cell_type": "markdown",
      "source": [
        "## Split data"
      ],
      "metadata": {
        "id": "o8W0Tyqjv0VR"
      }
    },
    {
      "cell_type": "code",
      "source": [
        "#split dataset into training and validation set\n",
        "y=train[\"Rating\"]\n",
        "X=train.drop(\"Rating\",axis=1)\n",
        "X_train, X_test, y_train, y_test = train_test_split(X, y, test_size=0.3,train_size=0.7, random_state=42,stratify=y)\n",
        "X_test, X_val, y_test, y_val = train_test_split(X_test, y_test, test_size=0.5, random_state=42)"
      ],
      "metadata": {
        "id": "78icURMnGOFY"
      },
      "execution_count": 15,
      "outputs": []
    },
    {
      "cell_type": "markdown",
      "source": [
        "##Build model \n"
      ],
      "metadata": {
        "id": "NIBOFnwgv58t"
      }
    },
    {
      "cell_type": "code",
      "source": [
        "#MF\n",
        "class MF(torch.nn.Module):\n",
        "    def __init__(self,n_users,n_movies,n_factors):\n",
        "        super().__init__()\n",
        "        #user embedings\n",
        "        self.users_emb=torch.nn.Embedding(n_users,n_factors,sparse=True)\n",
        "        #movies embeding\n",
        "        self.movies_emb=torch.nn.Embedding(n_movies,n_factors,sparse=True)\n",
        "\n",
        "        self.user_biases = torch.nn.Embedding(n_users, 1,sparse=True)\n",
        "        self.item_biases = torch.nn.Embedding(n_movies, 1,sparse=True)\n",
        "\n",
        "        self.users_emb.weight.data.uniform_(0,0.05)\n",
        "        self.movies_emb.weight.data.uniform_(0,0.05)\n",
        "    \n",
        "    def forward(self,u,m):\n",
        "        #return (self.users_emb(u)*self.movies_emb(m)).sum(1)\n",
        "\n",
        "        #return a dot matrix multiplication of u . M element wise\n",
        "        pred = self.user_biases(u) + self.item_biases(m)\n",
        "        pred += (\n",
        "           (self.users_emb(u)*self.movies_emb(m)).sum(1,keepdim=True)\n",
        "        )\n",
        "        return pred.squeeze()\n",
        "        \n",
        "\n",
        "\n"
      ],
      "metadata": {
        "id": "yNTcIksD18jr"
      },
      "execution_count": 16,
      "outputs": []
    },
    {
      "cell_type": "markdown",
      "source": [
        "## Train"
      ],
      "metadata": {
        "id": "AtgHYA_kwBP6"
      }
    },
    {
      "cell_type": "code",
      "source": [
        "def train(model,epochs,optimizer,loss_fn):\n",
        "    train_loss=[]\n",
        "    valid_loss=[]\n",
        "    for e in range(epochs):\n",
        "        model.train()\n",
        "        u=torch.LongTensor(X_train.Viewers_ID.values)\n",
        "        v=torch.LongTensor(X_train.Joke.values)\n",
        "        r=torch.FloatTensor(y_train.values)\n",
        "        #forward\n",
        "        out=model.forward(u,v)\n",
        "        #rmse\n",
        "\n",
        "        loss=torch.sqrt(loss_fn(out,r))\n",
        "        model.zero_grad()\n",
        "        loss.backward()\n",
        "        optimizer.step()\n",
        "        #validation\n",
        "        loss_v=validate(model)\n",
        "        #scheduler.step()\n",
        "        train_loss.append(loss.item())\n",
        "        valid_loss.append(loss_v.item())\n",
        "        print('epoch',e+1,end =\" \")\n",
        "        print(\"loss:\",loss.item(),end =\" \"),\n",
        "        print(\"loss v: \",loss_v.item())\n",
        "    plot_losses(train_loss,valid_loss)\n",
        "\n"
      ],
      "metadata": {
        "id": "pzDZh_YefpkR"
      },
      "execution_count": 17,
      "outputs": []
    },
    {
      "cell_type": "code",
      "source": [
        "#validate\n",
        "def validate(model):\n",
        "    model.eval()\n",
        "    u=torch.LongTensor(X_val.Viewers_ID.values)\n",
        "    v=torch.LongTensor(X_val.Joke.values)\n",
        "    r=torch.FloatTensor(y_val.values)\n",
        "    out=model.forward(u,v)\n",
        "    loss=torch.sqrt(loss_fn(out,r))\n",
        "    return loss"
      ],
      "metadata": {
        "id": "JRHwlSaXnGTm"
      },
      "execution_count": 18,
      "outputs": []
    },
    {
      "cell_type": "code",
      "source": [
        "#test\n",
        "def test():\n",
        "    #load model\n",
        "    model.eval()\n",
        "    u=torch.LongTensor(X_test.Viewers_ID.values)\n",
        "    v=torch.LongTensor(X_test.Joke.values)\n",
        "    r=torch.FloatTensor(y_test.values)\n",
        "    out=model.forward(u,v)\n",
        "    loss=torch.sqrt(loss_fn(out,r))\n",
        "    return loss.item()\n"
      ],
      "metadata": {
        "id": "I5NMzFRMatNo"
      },
      "execution_count": 19,
      "outputs": []
    },
    {
      "cell_type": "code",
      "source": [
        "\n",
        "from matplotlib.pylab import plt\n",
        "from numpy import arange\n",
        "def plot_losses(train_values,val_values):\n",
        "    # Generate a sequence of integers to represent the epoch numbers\n",
        "    epochs = range(1, len(train_values)+1)\n",
        "    # Plot and label the training and validation loss values\n",
        "    plt.plot(epochs, train_values, label='Training Loss')\n",
        "    plt.plot(epochs, val_values, label='Validation Loss')\n",
        "    # Add in a title and axes labels\n",
        "    plt.title('Training and Validation Loss')\n",
        "    plt.xlabel('Epochs')\n",
        "    plt.ylabel('Loss')\n",
        "    # Set the tick locations\n",
        "    plt.xticks(arange(0, len(epochs), len(epochs)/4))\n",
        "    # Display the plot\n",
        "    plt.legend(loc='best')\n",
        "    plt.show()\n",
        "\n",
        "\n",
        "\n"
      ],
      "metadata": {
        "id": "DRuVa96n8ACe"
      },
      "execution_count": 20,
      "outputs": []
    },
    {
      "cell_type": "code",
      "source": [
        "n_emb=100\n",
        "model=MF(n_users,n_joke,n_emb)\n",
        "loss_fn=torch.nn.MSELoss()\n",
        "optimizer=torch.optim.SparseAdam(model.parameters(), lr=0.01)\n",
        "scheduler = torch.optim.lr_scheduler.StepLR(optimizer, step_size=30, gamma=10)\n",
        "train(model,30,optimizer,loss_fn)\n"
      ],
      "metadata": {
        "colab": {
          "base_uri": "https://localhost:8080/",
          "height": 816
        },
        "id": "vJOjoGAAgYyb",
        "outputId": "e4feda5c-08e1-427e-9e33-ce3c49894ad0"
      },
      "execution_count": 21,
      "outputs": [
        {
          "output_type": "stream",
          "name": "stdout",
          "text": [
            "epoch 1 loss: 3.218708038330078 loss v:  3.2052948474884033\n",
            "epoch 2 loss: 3.189531087875366 loss v:  3.1729257106781006\n",
            "epoch 3 loss: 3.154219150543213 loss v:  3.134939670562744\n",
            "epoch 4 loss: 3.112328052520752 loss v:  3.091627597808838\n",
            "epoch 5 loss: 3.063995122909546 loss v:  3.0436248779296875\n",
            "epoch 6 loss: 3.00968337059021 loss v:  2.991875410079956\n",
            "epoch 7 loss: 2.950152635574341 loss v:  2.9376981258392334\n",
            "epoch 8 loss: 2.886537790298462 loss v:  2.8828284740448\n",
            "epoch 9 loss: 2.820404529571533 loss v:  2.8293702602386475\n",
            "epoch 10 loss: 2.7537288665771484 loss v:  2.7796452045440674\n",
            "epoch 11 loss: 2.688795566558838 loss v:  2.735922336578369\n",
            "epoch 12 loss: 2.6279802322387695 loss v:  2.6999716758728027\n",
            "epoch 13 loss: 2.5733580589294434 loss v:  2.6725008487701416\n",
            "epoch 14 loss: 2.5261757373809814 loss v:  2.652804374694824\n",
            "epoch 15 loss: 2.486461639404297 loss v:  2.6389644145965576\n",
            "epoch 16 loss: 2.4530985355377197 loss v:  2.6285183429718018\n",
            "epoch 17 loss: 2.424328565597534 loss v:  2.619180202484131\n",
            "epoch 18 loss: 2.39835524559021 loss v:  2.6092774868011475\n",
            "epoch 19 loss: 2.373748540878296 loss v:  2.5978891849517822\n",
            "epoch 20 loss: 2.3496131896972656 loss v:  2.584789991378784\n",
            "epoch 21 loss: 2.325576066970825 loss v:  2.5702719688415527\n",
            "epoch 22 loss: 2.301649332046509 loss v:  2.554914712905884\n",
            "epoch 23 loss: 2.278024435043335 loss v:  2.5393593311309814\n",
            "epoch 24 loss: 2.2548840045928955 loss v:  2.5241458415985107\n",
            "epoch 25 loss: 2.232283115386963 loss v:  2.509638786315918\n",
            "epoch 26 loss: 2.210118532180786 loss v:  2.496026039123535\n",
            "epoch 27 loss: 2.188162088394165 loss v:  2.48336124420166\n",
            "epoch 28 loss: 2.1661264896392822 loss v:  2.4716227054595947\n",
            "epoch 29 loss: 2.1437368392944336 loss v:  2.460768938064575\n",
            "epoch 30 loss: 2.1207916736602783 loss v:  2.4507761001586914\n"
          ]
        },
        {
          "output_type": "display_data",
          "data": {
            "text/plain": [
              "<Figure size 432x288 with 1 Axes>"
            ],
            "image/png": "[encoded data removed]"
          },
          "metadata": {
            "needs_background": "light"
          }
        }
      ]
    },
    {
      "cell_type": "markdown",
      "source": [
        "## Test"
      ],
      "metadata": {
        "id": "0J2uW0T7wF6Y"
      }
    },
    {
      "cell_type": "code",
      "source": [
        "print('test loss: ',test())"
      ],
      "metadata": {
        "colab": {
          "base_uri": "https://localhost:8080/"
        },
        "id": "r4JArMKndI7S",
        "outputId": "001b11ca-fed5-4871-acd1-f6d8d15dd411"
      },
      "execution_count": 22,
      "outputs": [
        {
          "output_type": "stream",
          "name": "stdout",
          "text": [
            "test loss:  2.4269800186157227\n"
          ]
        }
      ]
    }
  ]
}